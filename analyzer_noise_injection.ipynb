{
 "cells": [
  {
   "cell_type": "code",
   "execution_count": null,
   "id": "6f3c7e8a",
   "metadata": {},
   "outputs": [],
   "source": [
    "from toolbox.models import ResNet112, ResNet56\n",
    "from toolbox.data_loader import Cifar100\n",
    "from toolbox.utils import evaluate_model\n",
    "\n",
    "import torch\n",
    "import torch.nn as nn\n",
    "import torch.nn.functional as F\n",
    "\n",
    "import matplotlib.pyplot as plt\n",
    "import numpy as np\n",
    "\n",
    "device = \"cuda\"\n",
    "BATCH_SIZE = 128\n"
   ]
  },
  {
   "cell_type": "code",
   "execution_count": null,
   "id": "4bf62fac",
   "metadata": {},
   "outputs": [],
   "source": [
    "model_path = r\"toolbox/Cifar100_ResNet112.pth\"\n",
    "teacher = ResNet112(100).to(device)\n",
    "teacher.load_state_dict(torch.load(model_path, weights_only=True)[\"weights\"])\n",
    "teacher.eval()\n",
    "\n",
    "student = ResNet56(100).to(device)\n",
    "student.train()\n",
    "\n",
    "\n",
    "mean, std = (0.5071, 0.4867, 0.4409), (0.267, 0.256, 0.276) \n",
    "Data = Cifar100(BATCH_SIZE)\n",
    "trainloader, testloader = Data.trainloader, Data.testloader\n",
    "\n",
    "evaluate_model(teacher, testloader)\n"
   ]
  },
  {
   "cell_type": "code",
   "execution_count": null,
   "id": "5158b9b8",
   "metadata": {},
   "outputs": [],
   "source": [
    "inputs, targets = next(iter(testloader))\n",
    "inputs, targets = inputs.to(device), targets.to(device)\n",
    "\n",
    "teacher_outputs = teacher(inputs)\n",
    "student_outputs = student(inputs)\n",
    "\n",
    "active_outputs = teacher_outputs\n",
    "\n",
    "probs = torch.nn.functional.softmax(active_outputs[3], dim=1)\n",
    "confidence, predicted = torch.max(probs.data, 1)\n",
    "\n",
    "INDEX = 0"
   ]
  },
  {
   "cell_type": "code",
   "execution_count": null,
   "id": "b2748a47",
   "metadata": {},
   "outputs": [],
   "source": [
    "predicted_class_label = testloader.dataset.classes[predicted[INDEX]]\n",
    "correct_class_label = testloader.dataset.classes[targets[INDEX]]\n",
    "print('predicted: ', predicted_class_label)\n",
    "print('correct: ', correct_class_label)\n",
    "print('confidence', confidence[INDEX].item())\n",
    "img = inputs[INDEX].cpu() * torch.tensor(std).view(3, 1, 1) + torch.tensor(mean).view(3, 1, 1)\n",
    "img = img.permute(1, 2, 0).numpy()\n",
    "plt.imshow(img)\n",
    "plt.show()"
   ]
  },
  {
   "cell_type": "code",
   "execution_count": 139,
   "id": "e48fb287",
   "metadata": {},
   "outputs": [],
   "source": [
    "def positive_normal_1(mean, std, shape):\n",
    "    result = torch.empty(shape, device=device)\n",
    "    filled = torch.zeros(shape, dtype=torch.bool, device=device)\n",
    "\n",
    "    while not filled.all():\n",
    "        new_vals = torch.normal(mean=mean, std=std, size=shape, device=device)\n",
    "        mask = (new_vals > 0) & (~filled)\n",
    "        result[mask] = new_vals[mask]\n",
    "        filled |= mask\n",
    "\n",
    "    return result\n",
    "\n",
    "def positive_normal_2(mean,std,shape):\n",
    "    noise = torch.normal(mean=mean, std=std, size=shape, device=device)\n",
    "    positive_noise = noise.clamp(min=0)\n",
    "    return positive_noise\n",
    "\n",
    "def viz_fmap(feature_map):\n",
    "    size = 2\n",
    "    fig, axs = plt.subplots(size,size,figsize=(2,2))\n",
    "    for i in range(size):\n",
    "        for j in range(size):\n",
    "            axs[i, j].matshow(feature_map[i+j*size].detach().cpu(), vmin=0, vmax=7.5)\n",
    "            axs[i, j].axis('off')\n",
    "    plt.tight_layout()\n",
    "    plt.show()\n",
    "\n",
    "def print_ms(tens, label):\n",
    "    print(f'{label} mean={tens.mean().item():.2f} std={tens.std().item():.2f}')"
   ]
  },
  {
   "cell_type": "code",
   "execution_count": 140,
   "id": "440c43c1",
   "metadata": {},
   "outputs": [
    {
     "name": "stdout",
     "output_type": "stream",
     "text": [
      "clean tensor mean=0.81 std=1.57\n"
     ]
    },
    {
     "data": {
      "image/png": "[encoded data removed]",
      "text/plain": [
       "<Figure size 200x200 with 4 Axes>"
      ]
     },
     "metadata": {},
     "output_type": "display_data"
    },
    {
     "name": "stdout",
     "output_type": "stream",
     "text": [
      "noise_multiplier=0.25, noise_mean=0.2, noise_std=0.375\n",
      "noise mean=0.20 std=0.38\n",
      "noisy tensor mean=1.00 std=1.61\n"
     ]
    },
    {
     "data": {
      "image/png": "[encoded data removed]",
      "text/plain": [
       "<Figure size 200x200 with 4 Axes>"
      ]
     },
     "metadata": {},
     "output_type": "display_data"
    },
    {
     "name": "stdout",
     "output_type": "stream",
     "text": [
      "noise_multiplier=0.6875, noise_mean=0.55, noise_std=1.03125\n",
      "noise mean=0.55 std=1.03\n",
      "noisy tensor mean=1.36 std=1.88\n"
     ]
    },
    {
     "data": {
      "image/png": "[encoded data removed]",
      "text/plain": [
       "<Figure size 200x200 with 4 Axes>"
      ]
     },
     "metadata": {},
     "output_type": "display_data"
    },
    {
     "name": "stdout",
     "output_type": "stream",
     "text": [
      "noise_multiplier=1.125, noise_mean=0.9, noise_std=1.6875\n",
      "noise mean=0.90 std=1.69\n",
      "noisy tensor mean=1.71 std=2.31\n"
     ]
    },
    {
     "data": {
      "image/png": "[encoded data removed]",
      "text/plain": [
       "<Figure size 200x200 with 4 Axes>"
      ]
     },
     "metadata": {},
     "output_type": "display_data"
    },
    {
     "name": "stdout",
     "output_type": "stream",
     "text": [
      "noise_multiplier=1.5625, noise_mean=1.25, noise_std=2.34375\n",
      "noise mean=1.25 std=2.34\n",
      "noisy tensor mean=2.05 std=2.82\n"
     ]
    },
    {
     "data": {
      "image/png": "[encoded data removed]",
      "text/plain": [
       "<Figure size 200x200 with 4 Axes>"
      ]
     },
     "metadata": {},
     "output_type": "display_data"
    },
    {
     "name": "stdout",
     "output_type": "stream",
     "text": [
      "noise_multiplier=2.0, noise_mean=1.6, noise_std=3.0\n",
      "noise mean=1.61 std=3.00\n",
      "noisy tensor mean=2.41 std=3.39\n"
     ]
    },
    {
     "data": {
      "image/png": "[encoded data removed]",
      "text/plain": [
       "<Figure size 200x200 with 4 Axes>"
      ]
     },
     "metadata": {},
     "output_type": "display_data"
    }
   ],
   "source": [
    "clean_tensor = active_outputs[2]\n",
    "print_ms(clean_tensor, 'clean tensor')\n",
    "\n",
    "feature_map = active_outputs[2][INDEX]\n",
    "viz_fmap(feature_map)\n",
    "\n",
    "\n",
    "for noise_multiplier in np.linspace(0.25, 2, 5): \n",
    "    noise_mean = 0.8 * noise_multiplier\n",
    "    noise_std = 1.5 * noise_multiplier\n",
    "    print(f'{noise_multiplier=}, {noise_mean=}, {noise_std=}')\n",
    "\n",
    "    noise = torch.normal(mean=noise_mean, std=noise_std, size=clean_tensor.shape, device=device)\n",
    "    # noise = positive_normal_1(noise_mean, noise_std, clean_tensor.shape)\n",
    "    # noise = positive_normal_2(noise_mean, noise_std, clean_tensor.shape)\n",
    "    print_ms(noise, 'noise')\n",
    "\n",
    "    noisy_tensor = clean_tensor.detach() + noise \n",
    "    print_ms(noisy_tensor, 'noisy tensor')\n",
    "\n",
    "    viz_fmap(noisy_tensor[INDEX])"
   ]
  },
  {
   "cell_type": "code",
   "execution_count": 141,
   "id": "d51911c6",
   "metadata": {},
   "outputs": [
    {
     "name": "stdout",
     "output_type": "stream",
     "text": [
      "Without tucker recomposition\n",
      "clean tensor mean=0.81 std=1.57\n"
     ]
    },
    {
     "data": {
      "image/png": "[encoded data removed]",
      "text/plain": [
       "<Figure size 200x200 with 4 Axes>"
      ]
     },
     "metadata": {},
     "output_type": "display_data"
    },
    {
     "name": "stdout",
     "output_type": "stream",
     "text": [
      "x0.5\n",
      "reconstructed tensor mean=0.80 std=1.41\n"
     ]
    },
    {
     "data": {
      "image/png": "[encoded data removed]",
      "text/plain": [
       "<Figure size 200x200 with 4 Axes>"
      ]
     },
     "metadata": {},
     "output_type": "display_data"
    },
    {
     "name": "stdout",
     "output_type": "stream",
     "text": [
      "x0.375\n",
      "reconstructed tensor mean=0.80 std=1.32\n"
     ]
    },
    {
     "data": {
      "image/png": "[encoded data removed]",
      "text/plain": [
       "<Figure size 200x200 with 4 Axes>"
      ]
     },
     "metadata": {},
     "output_type": "display_data"
    },
    {
     "name": "stdout",
     "output_type": "stream",
     "text": [
      "x0.25\n",
      "reconstructed tensor mean=0.80 std=1.18\n"
     ]
    },
    {
     "data": {
      "image/png": "[encoded data removed]",
      "text/plain": [
       "<Figure size 200x200 with 4 Axes>"
      ]
     },
     "metadata": {},
     "output_type": "display_data"
    },
    {
     "name": "stdout",
     "output_type": "stream",
     "text": [
      "x0.125\n",
      "reconstructed tensor mean=0.80 std=0.97\n"
     ]
    },
    {
     "data": {
      "image/png": "[encoded data removed]",
      "text/plain": [
       "<Figure size 200x200 with 4 Axes>"
      ]
     },
     "metadata": {},
     "output_type": "display_data"
    }
   ],
   "source": [
    "import tensorly as tl\n",
    "from tensorly import tucker_to_tensor\n",
    "tl.set_backend(\"pytorch\")\n",
    "def tucker(feature_map, rank=[BATCH_SIZE,32,8,8]): \n",
    "    core, factors = tl.decomposition.tucker(feature_map, rank=rank)\n",
    "    return core, factors\n",
    "\n",
    "def compute_core(feature_map, factors):\n",
    "    return tl.tenalg.multi_mode_dot(feature_map, [f.T for f in factors], modes=[0, 1, 2, 3])\n",
    "\n",
    "print('Without tucker recomposition')\n",
    "print_ms(teacher_outputs[2], 'clean tensor')\n",
    "viz_fmap(teacher_outputs[2][INDEX])\n",
    "for channels in [32,24,16,8]:\n",
    "    rank = [BATCH_SIZE, channels, 8, 8]\n",
    "    teacher_core, teacher_factors = tucker(teacher_outputs[2], rank)\n",
    "\n",
    "    teacher_reconstructed = tucker_to_tensor((teacher_core, teacher_factors))\n",
    "\n",
    "    print(f'x{channels/64}') \n",
    "    print_ms(teacher_reconstructed, 'reconstructed tensor')\n",
    "    viz_fmap(teacher_reconstructed[INDEX])"
   ]
  },
  {
   "cell_type": "code",
   "execution_count": null,
   "id": "c8e48e5d",
   "metadata": {},
   "outputs": [],
   "source": []
  }
 ],
 "metadata": {
  "kernelspec": {
   "display_name": "Python 3",
   "language": "python",
   "name": "python3"
  },
  "language_info": {
   "codemirror_mode": {
    "name": "ipython",
    "version": 3
   },
   "file_extension": ".py",
   "mimetype": "text/x-python",
   "name": "python",
   "nbconvert_exporter": "python",
   "pygments_lexer": "ipython3",
   "version": "3.12.8"
  }
 },
 "nbformat": 4,
 "nbformat_minor": 5
}
